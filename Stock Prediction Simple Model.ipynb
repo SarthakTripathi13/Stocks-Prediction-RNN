{
  "cells": [
    {
      "cell_type": "markdown",
      "id": "2ff96b78",
      "metadata": {
        "id": "2ff96b78"
      },
      "source": [
        "# Stock Price Prediction using Recurrent Neural Networks"
      ]
    },
    {
      "cell_type": "markdown",
      "id": "9d47ceb4",
      "metadata": {
        "id": "9d47ceb4"
      },
      "source": [
        "**Prroblem Statement**:\n",
        "\n",
        "The goal of this project is to build a Recurrent Neural Network (RNN) that can predict the future stock price of Apple Inc. based on its past stock price history. \n",
        "\n",
        "Specifically, the RNN will take the stock price of the past 30 days as input and output the predicted stock price for the next day.\n",
        "\n",
        "**Steps involved**:\n",
        "\n",
        "> 1. Import necessary libraries such as numpy, pandas, matplotlib, scikit-learn, and tensorflow.keras.\n",
        "\n",
        "> 2. Load the stock price data from a CSV file containing the historical data of Apple Inc.\n",
        "\n",
        "> 3. Normalize the data using `MinMaxScaler` from scikit-learn.\n",
        "\n",
        "> 4. Split the data into training and testing sets.\n",
        "\n",
        "> 5. Create a function `create_dataset()` to prepare the data for the RNN, creating input and output pairs of data with a window size of 30 days. \n",
        "\n",
        "> 6. Build the RNN model using `Sequential()` and add two layers of SimpleRNN, each with 50 units, and 1 `Dense()` output layer.\n",
        "\n",
        "> 7. Compile the model using `adam` optimizer and mean squared error (MSE) as the loss function.\n",
        "\n",
        "> 8. Train the model using the training data for 100 epochs.\n",
        "\n",
        "> 9. Use the trained model to predict the stock price for the testing data.\n",
        "\n",
        "> 10. Reverse the normalization done earlier using `MinMaxScaler` to get the stock prices back to their original values.\n",
        "\n",
        "> 11. Plot actual stock prices versus predicted stock prices over the testing period.\n",
        "\n",
        "**Expected output**:\n",
        "\n",
        "> The output of this project will be a plot of the actual stock prices versus the predicted stock prices over the testing period. \n",
        "\n",
        "> The plot will show whether the RNN model was successful in predicting the stock prices accurately. \n",
        "\n",
        "> The predicted stock prices can also be used to make investment decision."
      ]
    },
    {
      "cell_type": "markdown",
      "id": "164b5f8f",
      "metadata": {
        "id": "164b5f8f"
      },
      "source": [
        "**Problem Statement: Predict future stock prices for a given company using historical stock price data with RNNs.**\n",
        "\n",
        "**Data**: You can obtain historical stock price data from sources like Yahoo Finance (https://finance.yahoo.com) or Alpha Vantage (https://www.alphavantage.co). For this example, let's assume we have downloaded the stock prices for a company, including the date, open, high, low, close, and volume information.\n",
        "\n",
        "Using TensorFlow and Keras to create and train an RNN for predicting future stock prices:"
      ]
    },
    {
      "cell_type": "markdown",
      "id": "9464a82c",
      "metadata": {
        "id": "9464a82c"
      },
      "source": [
        "**1. Import necessary libraries such as numpy, pandas, matplotlib, scikit-learn, and tensorflow.keras**: \n",
        "\n",
        ">The first step is to import all the necessary Python libraries and modules required for this project. Numpy and pandas are used for data manipulation, matplotlib is used for data visualization, scikit-learn is used for data preprocessing with `MinMaxScaler`, and tensorflow.keras is used to build and train the RNN model.\n"
      ]
    },
    {
      "cell_type": "code",
      "execution_count": null,
      "id": "629e843c",
      "metadata": {
        "id": "629e843c"
      },
      "outputs": [],
      "source": [
        "import numpy as np\n",
        "import pandas as pd\n",
        "import matplotlib.pyplot as plt\n",
        "from sklearn.preprocessing import MinMaxScaler\n",
        "from tensorflow.keras.models import Sequential\n",
        "from tensorflow.keras.layers import Dense, SimpleRNN, Dropout"
      ]
    },
    {
      "cell_type": "markdown",
      "id": "73180cfb",
      "metadata": {
        "id": "73180cfb"
      },
      "source": [
        "**2. Load the stock price data from a CSV file containing the historical data of Apple Inc.**:\n",
        "\n",
        "> The next step is to read the historical stock prices of Apple Inc. from a CSV file. \n",
        "\n",
        "> You can obtain historical stock price data from sources like Yahoo Finance (https://finance.yahoo.com) or Alpha Vantage (https://www.alphavantage.co). For this example, let's assume we have downloaded the stock prices for a company, including the date, open, high, low, close, and volume information.\n",
        "\n",
        "> In this project, a CSV file named 'AAPL.csv' is used, which contains Apple's stock prices over time. The extracted data is stored in a Pandas DataFrame, and only the closing prices are selected for further analysis."
      ]
    },
    {
      "cell_type": "code",
      "execution_count": null,
      "id": "26a60b9f",
      "metadata": {
        "id": "26a60b9f"
      },
      "outputs": [],
      "source": [
        "# Load the dataset\n",
        "data = pd.read_csv('AAPL.csv')\n",
        "data = data['Close'].values.reshape(-1, 1)"
      ]
    },
    {
      "cell_type": "markdown",
      "id": "62a39349",
      "metadata": {
        "id": "62a39349"
      },
      "source": [
        "**3. Normalize the data using `MinMaxScaler` from scikit-learn**:\n",
        "\n",
        "> To prepare the data for the RNN model, the data is normalized using `MinMaxScaler` from scikit-learn. This technique scales all the values between 0 and 1 based on the provided `feature_range`, which in this example is (0,1)"
      ]
    },
    {
      "cell_type": "code",
      "execution_count": null,
      "id": "24910a78",
      "metadata": {
        "id": "24910a78"
      },
      "outputs": [],
      "source": [
        "# Normalize the data\n",
        "scaler = MinMaxScaler(feature_range=(0, 1))\n",
        "data = scaler.fit_transform(data)"
      ]
    },
    {
      "cell_type": "markdown",
      "id": "23c09be7",
      "metadata": {
        "id": "23c09be7"
      },
      "source": [
        "**4. Split the data into training and testing sets**:\n",
        "\n",
        "> The next step involves splitting the data into training and testing sets. In this project, the first 80% of the data is used for training the RNN model, and the remaining 20% of data is used for testing the model."
      ]
    },
    {
      "cell_type": "code",
      "execution_count": null,
      "id": "3cff8797",
      "metadata": {
        "id": "3cff8797"
      },
      "outputs": [],
      "source": [
        "# Split the data into training and testing sets\n",
        "train_data = data[:int(len(data)*0.8)]\n",
        "test_data = data[int(len(data)*0.8):]"
      ]
    },
    {
      "cell_type": "markdown",
      "id": "691d5338",
      "metadata": {
        "id": "691d5338"
      },
      "source": [
        "**5. Create a function `create_dataset()` to prepare the data for the RNN**:\n",
        "\n",
        ">In this step, we define a function called `create_dataset()` that prepares the input and output data for the RNN model. \n",
        "\n",
        "> It creates input and output data pairs with a fixed window size of 30 days for this project. \n",
        "\n",
        "> The `X` variable represents the input data, while `y` represents the output data. The function returns the input and output data as numpy arrays."
      ]
    },
    {
      "cell_type": "code",
      "execution_count": null,
      "id": "f46b6f1a",
      "metadata": {
        "id": "f46b6f1a"
      },
      "outputs": [],
      "source": [
        "# Prepare the data for the RNN\n",
        "def create_dataset(data, window_size):\n",
        "    X, y = [], []\n",
        "    for i in range(len(data) - window_size - 1):\n",
        "        X.append(data[i:(i + window_size), 0])\n",
        "        y.append(data[i + window_size, 0])\n",
        "    return np.array(X), np.array(y)\n",
        "\n",
        "window_size = 30\n",
        "X_train, y_train = create_dataset(train_data, window_size)\n",
        "X_test, y_test = create_dataset(test_data, window_size)\n",
        "\n",
        "X_train = np.reshape(X_train, (X_train.shape[0], X_train.shape[1], 1))\n",
        "X_test = np.reshape(X_test, (X_test.shape[0], X_test.shape[1], 1))"
      ]
    },
    {
      "cell_type": "markdown",
      "id": "b42a2731",
      "metadata": {
        "id": "b42a2731"
      },
      "source": [
        "```\n",
        "# Prepare the data for the RNN\n",
        "def create_dataset(data, window_size):\n",
        "    X, y = [], []\n",
        "    for i in range(len(data) - window_size - 1):\n",
        "        X.append(data[i:(i + window_size), 0])\n",
        "        y.append(data[i + window_size, 0])\n",
        "    return np.array(X), np.array(y)\n",
        "\n",
        "window_size = 30\n",
        "X_train, y_train = create_dataset(train_data, window_size)\n",
        "X_test, y_test = create_dataset(test_data, window_size)\n",
        "```\n",
        "\n",
        "1. `# Prepare the data for the RNN`:\n",
        "This is a comment that describes what the following code block does.\n",
        "\n",
        "2. `def create_dataset(data, window_size):`:\n",
        "This defines a function called `create_dataset()` that takes two arguments: `data` and `window_size`. The `data` argument will be the training or testing data, while `window_size` is used to create the input and output data pairs with a fixed window size.\n",
        "\n",
        "3. `X, y = [], []`:\n",
        "These two empty lists (`X` and `y`) will be used to store the input and output data pairs generated from the input data.\n",
        "\n",
        "4. `for i in range(len(data) - window_size - 1):`:\n",
        "This `for` loop iterates over the training or testing data `data`, calculating the input and output data pairs with a window size of `window_size`.\n",
        "\n",
        "5. `X.append(data[i:(i + window_size), 0])`:\n",
        "For each iteration of the `for` loop, the input data, `X`, is defined as the historical stock prices for the previous `window_size` days. This uses sliced subarrays of `data` where the row indices are i to i+window_size and it only contains one column which is the closing prices.\n",
        "\n",
        "6. `y.append(data[i + window_size, 0])`:\n",
        "The expected output or predicted stock prices are defined for each iteration by picking up the stock price of the next day after the window defined above, which is the `(i+ window_size, 0)` index in the `data` array.\n",
        "\n",
        "7. `return np.array(X), np.array(y)`:\n",
        "Finally, we convert the input and output data pairs stored in `X` and `y` into NumPy arrays and then return them.\n",
        "\n",
        "8. `window_size = 30`:\n",
        "This step defines a variable called `window_size`, which determines the number of past days used as input to predict the stock price for the following day. In this model, `window_size` is set to 30 days.\n",
        "\n",
        "9. `X_train, y_train = create_dataset(train_data, window_size)`:\n",
        "This line computes the input (`X_train`) and target output (`y_train`) for the training data using the `create_dataset()` function.\n",
        "\n",
        "10. `X_test, y_test = create_dataset(test_data, window_size)`:\n",
        "This line computes the input (`X_test`) and target output (`y_test`) for the testing data using the `create_dataset()` function.\n",
        "\n",
        "11. `X_train = np.reshape(X_train, (X_train.shape[0], X_train.shape[1], 1))`:\n",
        "This line reshapes the `X_train` data as a 3D array using `np.reshape()`. This is required because the RNN model expects the input data in a 3D format where the dimensions are (number of samples, window size, number of features).\n",
        "\n",
        "12. `X_test = np.reshape(X_test, (X_test.shape[0], X_test.shape[1], 1))`:\n",
        "This line reshapes the `X_test` data as a 3D array with the same method.\n",
        "\n",
        "Overall, this block of code generates the training and testing data sets by calling the `create_dataset()` function with the training and testing data and window size as arguments. It reshapes the training and testing input data to a 3D array of a specific shape that the RNN model expects.\n",
        "User : can you explain this : # Build the RNN model model = Sequential() model.add(SimpleRNN(units=50, return_sequences=True, input_shape=(X_train.shape[1], 1)))"
      ]
    },
    {
      "cell_type": "markdown",
      "id": "93714222",
      "metadata": {
        "id": "93714222"
      },
      "source": [
        "**6. Build the RNN model using `Sequential()`**:\n",
        "\n",
        "> The next step is to build the RNN model. In this project, two `SimpleRNN` layers, each with 50 units, and one `Dense` output layer are added using `Sequential()`. \n",
        "\n",
        "> Dropout layers are also added after each `SimpleRNN` layer to prevent overfitting."
      ]
    },
    {
      "cell_type": "code",
      "execution_count": null,
      "id": "54535209",
      "metadata": {
        "id": "54535209"
      },
      "outputs": [],
      "source": [
        "# Build the RNN model\n",
        "model = Sequential()\n",
        "model.add(SimpleRNN(units=50, return_sequences=True, input_shape=(X_train.shape[1], 1)))\n",
        "model.add(Dropout(0.2))\n",
        "model.add(SimpleRNN(units=50))\n",
        "model.add(Dropout(0.2))\n",
        "model.add(Dense(units=1))"
      ]
    },
    {
      "cell_type": "markdown",
      "id": "01b55010",
      "metadata": {
        "id": "01b55010"
      },
      "source": [
        "1. `model = Sequential()`: This line creates a sequential model in Keras where each layer is stacked on top of the previous layer.\n",
        "\n",
        "2. `model.add(SimpleRNN(units=50, return_sequences=True, input_shape=(X_train.shape[1], 1)))`: This line adds a SimpleRNN layer with 50 units. The `input_shape` parameter is set to the shape of the training data with the number of time steps as the first dimension and the number of features as the second dimension. The `return_sequences` parameter is set to `True` to return the entire sequence of outputs at each time step.\n",
        "\n",
        "3. `model.add(Dropout(0.2))`: This line adds a Dropout layer with a rate of 0.2 to prevent overfitting.\n",
        "\n",
        "4. `model.add(SimpleRNN(units=50))`: This line adds another SimpleRNN layer with 50 units on top of the previous layer.\n",
        "\n",
        "5. `model.add(Dropout(0.2))`: This line adds another Dropout layer with a rate of 0.2 to further prevent overfitting.\n",
        "\n",
        "6. `model.add(Dense(units=1))`: This line adds a Dense layer with a single output unit to make the final prediction.\n",
        "\n",
        "Overall, this RNN model is composed of two stacked SimpleRNN layers, each with 50 units, followed by two Dropout layers to prevent overfitting and a single output Dense layer. It takes in input of shape (number of time steps, number of features) and generates a single output at the end."
      ]
    },
    {
      "cell_type": "markdown",
      "id": "2966fad2",
      "metadata": {
        "id": "2966fad2"
      },
      "source": [
        "**7. Compile the model using `adam` optimizer and Mean Squared Error (MSE) as the loss function**:\n",
        "\n",
        "> In this step, we compile the RNN model. We define the `adam` optimizer to update the weights of the RNN model to minimize `MSE` as the loss function. \n"
      ]
    },
    {
      "cell_type": "code",
      "execution_count": null,
      "id": "007470cb",
      "metadata": {
        "id": "007470cb"
      },
      "outputs": [],
      "source": [
        "model.compile(optimizer='adam', loss='mean_squared_error')"
      ]
    },
    {
      "cell_type": "markdown",
      "id": "52480e74",
      "metadata": {
        "id": "52480e74"
      },
      "source": [
        "**8. Train the model using the training data**:\n",
        "\n",
        "> The next step involves training the RNN model using the training data. We fit the model with the `X_train` and `y_train` data generated with the `create_dataset()` function. We train the RNN model with 100 epochs with a batch size of 32."
      ]
    },
    {
      "cell_type": "code",
      "execution_count": null,
      "id": "357a5a4a",
      "metadata": {
        "id": "357a5a4a",
        "outputId": "8f07e8bf-666c-450e-9d63-54b8f2ae1eef"
      },
      "outputs": [
        {
          "name": "stdout",
          "output_type": "stream",
          "text": [
            "Epoch 1/100\n",
            "6/6 [==============================] - 1s 11ms/step - loss: 0.2937\n",
            "Epoch 2/100\n",
            "6/6 [==============================] - 0s 12ms/step - loss: 0.1716\n",
            "Epoch 3/100\n",
            "6/6 [==============================] - 0s 10ms/step - loss: 0.1293\n",
            "Epoch 4/100\n",
            "6/6 [==============================] - 0s 11ms/step - loss: 0.1018\n",
            "Epoch 5/100\n",
            "6/6 [==============================] - 0s 11ms/step - loss: 0.0786\n",
            "Epoch 6/100\n",
            "6/6 [==============================] - 0s 10ms/step - loss: 0.0724\n",
            "Epoch 7/100\n",
            "6/6 [==============================] - 0s 11ms/step - loss: 0.0460\n",
            "Epoch 8/100\n",
            "6/6 [==============================] - 0s 11ms/step - loss: 0.0559\n",
            "Epoch 9/100\n",
            "6/6 [==============================] - 0s 11ms/step - loss: 0.0497\n",
            "Epoch 10/100\n",
            "6/6 [==============================] - 0s 11ms/step - loss: 0.0584\n",
            "Epoch 11/100\n",
            "6/6 [==============================] - 0s 11ms/step - loss: 0.0362\n",
            "Epoch 12/100\n",
            "6/6 [==============================] - 0s 10ms/step - loss: 0.0493\n",
            "Epoch 13/100\n",
            "6/6 [==============================] - 0s 13ms/step - loss: 0.0424\n",
            "Epoch 14/100\n",
            "6/6 [==============================] - 0s 12ms/step - loss: 0.0432\n",
            "Epoch 15/100\n",
            "6/6 [==============================] - 0s 11ms/step - loss: 0.0398\n",
            "Epoch 16/100\n",
            "6/6 [==============================] - 0s 11ms/step - loss: 0.0358\n",
            "Epoch 17/100\n",
            "6/6 [==============================] - 0s 12ms/step - loss: 0.0279\n",
            "Epoch 18/100\n",
            "6/6 [==============================] - 0s 11ms/step - loss: 0.0320\n",
            "Epoch 19/100\n",
            "6/6 [==============================] - 0s 12ms/step - loss: 0.0268\n",
            "Epoch 20/100\n",
            "6/6 [==============================] - 0s 55ms/step - loss: 0.0287\n",
            "Epoch 21/100\n",
            "6/6 [==============================] - 0s 11ms/step - loss: 0.0316\n",
            "Epoch 22/100\n",
            "6/6 [==============================] - 0s 15ms/step - loss: 0.0221\n",
            "Epoch 23/100\n",
            "6/6 [==============================] - 0s 11ms/step - loss: 0.0202\n",
            "Epoch 24/100\n",
            "6/6 [==============================] - 0s 11ms/step - loss: 0.0250\n",
            "Epoch 25/100\n",
            "6/6 [==============================] - 0s 10ms/step - loss: 0.0275\n",
            "Epoch 26/100\n",
            "6/6 [==============================] - 0s 11ms/step - loss: 0.0248\n",
            "Epoch 27/100\n",
            "6/6 [==============================] - 0s 12ms/step - loss: 0.0252\n",
            "Epoch 28/100\n",
            "6/6 [==============================] - 0s 12ms/step - loss: 0.0283\n",
            "Epoch 29/100\n",
            "6/6 [==============================] - 0s 11ms/step - loss: 0.0199\n",
            "Epoch 30/100\n",
            "6/6 [==============================] - 0s 11ms/step - loss: 0.0203\n",
            "Epoch 31/100\n",
            "6/6 [==============================] - 0s 11ms/step - loss: 0.0203\n",
            "Epoch 32/100\n",
            "6/6 [==============================] - 0s 11ms/step - loss: 0.0251\n",
            "Epoch 33/100\n",
            "6/6 [==============================] - 0s 11ms/step - loss: 0.0204\n",
            "Epoch 34/100\n",
            "6/6 [==============================] - 0s 11ms/step - loss: 0.0155\n",
            "Epoch 35/100\n",
            "6/6 [==============================] - 0s 11ms/step - loss: 0.0184\n",
            "Epoch 36/100\n",
            "6/6 [==============================] - 0s 12ms/step - loss: 0.0185\n",
            "Epoch 37/100\n",
            "6/6 [==============================] - 0s 12ms/step - loss: 0.0160\n",
            "Epoch 38/100\n",
            "6/6 [==============================] - 0s 14ms/step - loss: 0.0140\n",
            "Epoch 39/100\n",
            "6/6 [==============================] - 0s 15ms/step - loss: 0.0185\n",
            "Epoch 40/100\n",
            "6/6 [==============================] - 0s 11ms/step - loss: 0.0142\n",
            "Epoch 41/100\n",
            "6/6 [==============================] - 0s 11ms/step - loss: 0.0133\n",
            "Epoch 42/100\n",
            "6/6 [==============================] - 0s 12ms/step - loss: 0.0159\n",
            "Epoch 43/100\n",
            "6/6 [==============================] - 0s 14ms/step - loss: 0.0181\n",
            "Epoch 44/100\n",
            "6/6 [==============================] - 0s 13ms/step - loss: 0.0149\n",
            "Epoch 45/100\n",
            "6/6 [==============================] - 0s 12ms/step - loss: 0.0173\n",
            "Epoch 46/100\n",
            "6/6 [==============================] - 0s 16ms/step - loss: 0.0157\n",
            "Epoch 47/100\n",
            "6/6 [==============================] - 0s 13ms/step - loss: 0.0137\n",
            "Epoch 48/100\n",
            "6/6 [==============================] - 0s 13ms/step - loss: 0.0164\n",
            "Epoch 49/100\n",
            "6/6 [==============================] - 0s 12ms/step - loss: 0.0143\n",
            "Epoch 50/100\n",
            "6/6 [==============================] - 0s 13ms/step - loss: 0.0117\n",
            "Epoch 51/100\n",
            "6/6 [==============================] - 0s 11ms/step - loss: 0.0128\n",
            "Epoch 52/100\n",
            "6/6 [==============================] - 0s 12ms/step - loss: 0.0123\n",
            "Epoch 53/100\n",
            "6/6 [==============================] - 0s 15ms/step - loss: 0.0128\n",
            "Epoch 54/100\n",
            "6/6 [==============================] - 0s 20ms/step - loss: 0.0132\n",
            "Epoch 55/100\n",
            "6/6 [==============================] - 0s 12ms/step - loss: 0.0118\n",
            "Epoch 56/100\n",
            "6/6 [==============================] - 0s 13ms/step - loss: 0.0134\n",
            "Epoch 57/100\n",
            "6/6 [==============================] - 0s 12ms/step - loss: 0.0134\n",
            "Epoch 58/100\n",
            "6/6 [==============================] - 0s 12ms/step - loss: 0.0115\n",
            "Epoch 59/100\n",
            "6/6 [==============================] - 0s 11ms/step - loss: 0.0107\n",
            "Epoch 60/100\n",
            "6/6 [==============================] - 0s 11ms/step - loss: 0.0151\n",
            "Epoch 61/100\n",
            "6/6 [==============================] - 0s 11ms/step - loss: 0.0111\n",
            "Epoch 62/100\n",
            "6/6 [==============================] - 0s 11ms/step - loss: 0.0130\n",
            "Epoch 63/100\n",
            "6/6 [==============================] - 0s 12ms/step - loss: 0.0117\n",
            "Epoch 64/100\n",
            "6/6 [==============================] - 0s 12ms/step - loss: 0.0119\n",
            "Epoch 65/100\n",
            "6/6 [==============================] - 0s 11ms/step - loss: 0.0104\n",
            "Epoch 66/100\n",
            "6/6 [==============================] - 0s 11ms/step - loss: 0.0117\n",
            "Epoch 67/100\n",
            "6/6 [==============================] - 0s 11ms/step - loss: 0.0096\n",
            "Epoch 68/100\n",
            "6/6 [==============================] - 0s 11ms/step - loss: 0.0138\n",
            "Epoch 69/100\n",
            "6/6 [==============================] - 0s 11ms/step - loss: 0.0098\n",
            "Epoch 70/100\n",
            "6/6 [==============================] - 0s 9ms/step - loss: 0.0108\n",
            "Epoch 71/100\n",
            "6/6 [==============================] - 0s 10ms/step - loss: 0.0098\n",
            "Epoch 72/100\n",
            "6/6 [==============================] - 0s 11ms/step - loss: 0.0078\n",
            "Epoch 73/100\n",
            "6/6 [==============================] - 0s 10ms/step - loss: 0.0107\n",
            "Epoch 74/100\n",
            "6/6 [==============================] - 0s 12ms/step - loss: 0.0149\n",
            "Epoch 75/100\n",
            "6/6 [==============================] - 0s 11ms/step - loss: 0.0085\n",
            "Epoch 76/100\n",
            "6/6 [==============================] - 0s 11ms/step - loss: 0.0106\n",
            "Epoch 77/100\n",
            "6/6 [==============================] - 0s 12ms/step - loss: 0.0109\n",
            "Epoch 78/100\n",
            "6/6 [==============================] - 0s 11ms/step - loss: 0.0097\n",
            "Epoch 79/100\n",
            "6/6 [==============================] - 0s 11ms/step - loss: 0.0097\n",
            "Epoch 80/100\n",
            "6/6 [==============================] - 0s 12ms/step - loss: 0.0093\n",
            "Epoch 81/100\n",
            "6/6 [==============================] - 0s 12ms/step - loss: 0.0099\n",
            "Epoch 82/100\n",
            "6/6 [==============================] - 0s 12ms/step - loss: 0.0094\n",
            "Epoch 83/100\n",
            "6/6 [==============================] - 0s 12ms/step - loss: 0.0093\n",
            "Epoch 84/100\n",
            "6/6 [==============================] - 0s 11ms/step - loss: 0.0085\n",
            "Epoch 85/100\n",
            "6/6 [==============================] - 0s 11ms/step - loss: 0.0080\n",
            "Epoch 86/100\n",
            "6/6 [==============================] - 0s 18ms/step - loss: 0.0092\n",
            "Epoch 87/100\n",
            "6/6 [==============================] - 0s 12ms/step - loss: 0.0090\n",
            "Epoch 88/100\n",
            "6/6 [==============================] - 0s 12ms/step - loss: 0.0100\n",
            "Epoch 89/100\n",
            "6/6 [==============================] - 0s 9ms/step - loss: 0.0083\n",
            "Epoch 90/100\n",
            "6/6 [==============================] - 0s 9ms/step - loss: 0.0084\n",
            "Epoch 91/100\n",
            "6/6 [==============================] - 0s 10ms/step - loss: 0.0090\n",
            "Epoch 92/100\n",
            "6/6 [==============================] - 0s 11ms/step - loss: 0.0091\n",
            "Epoch 93/100\n",
            "6/6 [==============================] - 0s 11ms/step - loss: 0.0076\n",
            "Epoch 94/100\n",
            "6/6 [==============================] - 0s 11ms/step - loss: 0.0085\n",
            "Epoch 95/100\n",
            "6/6 [==============================] - 0s 11ms/step - loss: 0.0075\n",
            "Epoch 96/100\n",
            "6/6 [==============================] - 0s 10ms/step - loss: 0.0075\n",
            "Epoch 97/100\n",
            "6/6 [==============================] - 0s 12ms/step - loss: 0.0081\n",
            "Epoch 98/100\n",
            "6/6 [==============================] - 0s 13ms/step - loss: 0.0075\n",
            "Epoch 99/100\n",
            "6/6 [==============================] - 0s 12ms/step - loss: 0.0083\n",
            "Epoch 100/100\n",
            "6/6 [==============================] - 0s 11ms/step - loss: 0.0086\n"
          ]
        },
        {
          "data": {
            "text/plain": [
              "<keras.callbacks.History at 0x7f97d732f190>"
            ]
          },
          "execution_count": 17,
          "metadata": {},
          "output_type": "execute_result"
        }
      ],
      "source": [
        "# Train the model\n",
        "model.fit(X_train, y_train, epochs=100, batch_size=32)"
      ]
    },
    {
      "cell_type": "markdown",
      "id": "3f554a41",
      "metadata": {
        "id": "3f554a41"
      },
      "source": [
        "**9. Use the trained model to predict the stock price for the testing data**:\n",
        "\n",
        "> Using the `X_test` data generated with the `create_dataset()` function and the trained RNN model, we generate a series of predicted stock prices for Apple over each day of the testing data set."
      ]
    },
    {
      "cell_type": "code",
      "execution_count": null,
      "id": "7eacc919",
      "metadata": {
        "id": "7eacc919",
        "outputId": "aa0ad47f-70b0-46bc-b371-3e370e802350"
      },
      "outputs": [
        {
          "name": "stdout",
          "output_type": "stream",
          "text": [
            "1/1 [==============================] - 0s 195ms/step\n"
          ]
        }
      ],
      "source": [
        "# Make predictions\n",
        "predictions = model.predict(X_test)"
      ]
    },
    {
      "cell_type": "markdown",
      "id": "054dbd52",
      "metadata": {
        "id": "054dbd52"
      },
      "source": [
        "**10. Reverse the normalisation done earlier using `MinMaxScaler`**:\n",
        "\n",
        "> To get the predicted stock prices back to their original values from before normalization, we reverse the `MinMaxScaler` earlier applied to the data. \n",
        "\n",
        "> The predicted values are unscaled and transformed back to their original values."
      ]
    },
    {
      "cell_type": "code",
      "execution_count": null,
      "id": "4911b626",
      "metadata": {
        "id": "4911b626"
      },
      "outputs": [],
      "source": [
        "predictions = scaler.inverse_transform(predictions)"
      ]
    },
    {
      "cell_type": "markdown",
      "id": "fd858736",
      "metadata": {
        "id": "fd858736"
      },
      "source": [
        "**11. Plot actual stock prices versus predicted stock prices**:\n",
        "\n",
        ">The final step is to plot the actual stock prices obtained from the test data set against the predicted stock prices generated using the RNN model.\n",
        "\n",
        "> We plot the actual stock prices above the predicted stock prices with different colors (blue and red, respectively) to visually compare the two. \n",
        "\n",
        "> The plot helps in visualizing and comparing actual versus predicted stock prices and provides an estimate of the RNN model's performance."
      ]
    },
    {
      "cell_type": "code",
      "execution_count": null,
      "id": "6acc4780",
      "metadata": {
        "id": "6acc4780",
        "outputId": "f280f31a-4583-4d73-db90-dca6b63430a1"
      },
      "outputs": [
        {
          "data": {
            "image/png": "[encoded data removed]",
            "text/plain": [
              "<Figure size 640x480 with 1 Axes>"
            ]
          },
          "metadata": {},
          "output_type": "display_data"
        }
      ],
      "source": [
        "# Plot the results\n",
        "plt.plot(scaler.inverse_transform(test_data[window_size:]), color='blue', label='Actual Stock Price')\n",
        "plt.plot(predictions, color='red', label='Predicted Stock Price')\n",
        "plt.title('Stock Price Prediction')\n",
        "plt.xlabel('Time')\n",
        "plt.ylabel('Stock Price')\n",
        "plt.legend()\n",
        "plt.show()"
      ]
    },
    {
      "cell_type": "code",
      "execution_count": null,
      "id": "e74e3c41",
      "metadata": {
        "id": "e74e3c41"
      },
      "outputs": [],
      "source": [
        "# Complete code"
      ]
    },
    {
      "cell_type": "code",
      "execution_count": null,
      "id": "7948d7e3",
      "metadata": {
        "id": "7948d7e3",
        "outputId": "80f29d2e-71f8-42d9-e24c-ca522ae3f256"
      },
      "outputs": [
        {
          "name": "stderr",
          "output_type": "stream",
          "text": [
            "2023-04-02 19:13:52.551441: I tensorflow/core/platform/cpu_feature_guard.cc:193] This TensorFlow binary is optimized with oneAPI Deep Neural Network Library (oneDNN) to use the following CPU instructions in performance-critical operations:  AVX2 FMA\n",
            "To enable them in other operations, rebuild TensorFlow with the appropriate compiler flags.\n"
          ]
        },
        {
          "name": "stdout",
          "output_type": "stream",
          "text": [
            "Epoch 1/100\n",
            "6/6 [==============================] - 2s 12ms/step - loss: 0.1429\n",
            "Epoch 2/100\n",
            "6/6 [==============================] - 0s 12ms/step - loss: 0.0987\n",
            "Epoch 3/100\n",
            "6/6 [==============================] - 0s 12ms/step - loss: 0.0816\n",
            "Epoch 4/100\n",
            "6/6 [==============================] - 0s 12ms/step - loss: 0.0787\n",
            "Epoch 5/100\n",
            "6/6 [==============================] - 0s 11ms/step - loss: 0.0672\n",
            "Epoch 6/100\n",
            "6/6 [==============================] - 0s 15ms/step - loss: 0.0577\n",
            "Epoch 7/100\n",
            "6/6 [==============================] - 0s 11ms/step - loss: 0.0560\n",
            "Epoch 8/100\n",
            "6/6 [==============================] - 0s 10ms/step - loss: 0.0437\n",
            "Epoch 9/100\n",
            "6/6 [==============================] - 0s 11ms/step - loss: 0.0503\n",
            "Epoch 10/100\n",
            "6/6 [==============================] - 0s 10ms/step - loss: 0.0454\n",
            "Epoch 11/100\n",
            "6/6 [==============================] - 0s 10ms/step - loss: 0.0383\n",
            "Epoch 12/100\n",
            "6/6 [==============================] - 0s 10ms/step - loss: 0.0375\n",
            "Epoch 13/100\n",
            "6/6 [==============================] - 0s 10ms/step - loss: 0.0296\n",
            "Epoch 14/100\n",
            "6/6 [==============================] - 0s 14ms/step - loss: 0.0253\n",
            "Epoch 15/100\n",
            "6/6 [==============================] - 0s 11ms/step - loss: 0.0256\n",
            "Epoch 16/100\n",
            "6/6 [==============================] - 0s 11ms/step - loss: 0.0245\n",
            "Epoch 17/100\n",
            "6/6 [==============================] - 0s 11ms/step - loss: 0.0208\n",
            "Epoch 18/100\n",
            "6/6 [==============================] - 0s 11ms/step - loss: 0.0189\n",
            "Epoch 19/100\n",
            "6/6 [==============================] - 0s 11ms/step - loss: 0.0207\n",
            "Epoch 20/100\n",
            "6/6 [==============================] - 0s 11ms/step - loss: 0.0204\n",
            "Epoch 21/100\n",
            "6/6 [==============================] - 0s 10ms/step - loss: 0.0202\n",
            "Epoch 22/100\n",
            "6/6 [==============================] - 0s 11ms/step - loss: 0.0141\n",
            "Epoch 23/100\n",
            "6/6 [==============================] - 0s 12ms/step - loss: 0.0203\n",
            "Epoch 24/100\n",
            "6/6 [==============================] - 0s 9ms/step - loss: 0.0164\n",
            "Epoch 25/100\n",
            "6/6 [==============================] - 0s 10ms/step - loss: 0.0143\n",
            "Epoch 26/100\n",
            "6/6 [==============================] - 0s 11ms/step - loss: 0.0168\n",
            "Epoch 27/100\n",
            "6/6 [==============================] - 0s 9ms/step - loss: 0.0135\n",
            "Epoch 28/100\n",
            "6/6 [==============================] - 0s 11ms/step - loss: 0.0144\n",
            "Epoch 29/100\n",
            "6/6 [==============================] - 0s 11ms/step - loss: 0.0145\n",
            "Epoch 30/100\n",
            "6/6 [==============================] - 0s 10ms/step - loss: 0.0176\n",
            "Epoch 31/100\n",
            "6/6 [==============================] - 0s 11ms/step - loss: 0.0123\n",
            "Epoch 32/100\n",
            "6/6 [==============================] - 0s 11ms/step - loss: 0.0163\n",
            "Epoch 33/100\n",
            "6/6 [==============================] - 0s 11ms/step - loss: 0.0130\n",
            "Epoch 34/100\n",
            "6/6 [==============================] - 0s 16ms/step - loss: 0.0106\n",
            "Epoch 35/100\n",
            "6/6 [==============================] - 0s 10ms/step - loss: 0.0112\n",
            "Epoch 36/100\n",
            "6/6 [==============================] - 0s 12ms/step - loss: 0.0108\n",
            "Epoch 37/100\n",
            "6/6 [==============================] - 0s 11ms/step - loss: 0.0114\n",
            "Epoch 38/100\n",
            "6/6 [==============================] - 0s 11ms/step - loss: 0.0141\n",
            "Epoch 39/100\n",
            "6/6 [==============================] - 0s 10ms/step - loss: 0.0100\n",
            "Epoch 40/100\n",
            "6/6 [==============================] - 0s 10ms/step - loss: 0.0100\n",
            "Epoch 41/100\n",
            "6/6 [==============================] - 0s 11ms/step - loss: 0.0114\n",
            "Epoch 42/100\n",
            "6/6 [==============================] - 0s 10ms/step - loss: 0.0099\n",
            "Epoch 43/100\n",
            "6/6 [==============================] - 0s 11ms/step - loss: 0.0108\n",
            "Epoch 44/100\n",
            "6/6 [==============================] - 0s 11ms/step - loss: 0.0092\n",
            "Epoch 45/100\n",
            "6/6 [==============================] - 0s 12ms/step - loss: 0.0102\n",
            "Epoch 46/100\n",
            "6/6 [==============================] - 0s 11ms/step - loss: 0.0102\n",
            "Epoch 47/100\n",
            "6/6 [==============================] - 0s 12ms/step - loss: 0.0094\n",
            "Epoch 48/100\n",
            "6/6 [==============================] - 0s 12ms/step - loss: 0.0116\n",
            "Epoch 49/100\n",
            "6/6 [==============================] - 0s 12ms/step - loss: 0.0096\n",
            "Epoch 50/100\n",
            "6/6 [==============================] - 0s 12ms/step - loss: 0.0085\n",
            "Epoch 51/100\n",
            "6/6 [==============================] - 0s 14ms/step - loss: 0.0085\n",
            "Epoch 52/100\n",
            "6/6 [==============================] - 0s 11ms/step - loss: 0.0096\n",
            "Epoch 53/100\n",
            "6/6 [==============================] - 0s 10ms/step - loss: 0.0096\n",
            "Epoch 54/100\n",
            "6/6 [==============================] - 0s 10ms/step - loss: 0.0081\n",
            "Epoch 55/100\n",
            "6/6 [==============================] - 0s 11ms/step - loss: 0.0097\n",
            "Epoch 56/100\n",
            "6/6 [==============================] - 0s 11ms/step - loss: 0.0097\n",
            "Epoch 57/100\n",
            "6/6 [==============================] - 0s 11ms/step - loss: 0.0076\n",
            "Epoch 58/100\n",
            "6/6 [==============================] - 0s 11ms/step - loss: 0.0077\n",
            "Epoch 59/100\n",
            "6/6 [==============================] - 0s 11ms/step - loss: 0.0085\n",
            "Epoch 60/100\n",
            "6/6 [==============================] - 0s 11ms/step - loss: 0.0088\n",
            "Epoch 61/100\n",
            "6/6 [==============================] - 0s 10ms/step - loss: 0.0090\n",
            "Epoch 62/100\n",
            "6/6 [==============================] - 0s 10ms/step - loss: 0.0075\n",
            "Epoch 63/100\n",
            "6/6 [==============================] - 0s 11ms/step - loss: 0.0082\n",
            "Epoch 64/100\n",
            "6/6 [==============================] - 0s 10ms/step - loss: 0.0080\n",
            "Epoch 65/100\n",
            "6/6 [==============================] - 0s 9ms/step - loss: 0.0106\n",
            "Epoch 66/100\n",
            "6/6 [==============================] - 0s 11ms/step - loss: 0.0077\n",
            "Epoch 67/100\n",
            "6/6 [==============================] - 0s 9ms/step - loss: 0.0088\n",
            "Epoch 68/100\n",
            "6/6 [==============================] - 0s 10ms/step - loss: 0.0086\n",
            "Epoch 69/100\n",
            "6/6 [==============================] - 0s 11ms/step - loss: 0.0101\n",
            "Epoch 70/100\n",
            "6/6 [==============================] - 0s 11ms/step - loss: 0.0080\n",
            "Epoch 71/100\n",
            "6/6 [==============================] - 0s 12ms/step - loss: 0.0068\n",
            "Epoch 72/100\n",
            "6/6 [==============================] - 0s 9ms/step - loss: 0.0069\n",
            "Epoch 73/100\n",
            "6/6 [==============================] - 0s 10ms/step - loss: 0.0076\n",
            "Epoch 74/100\n",
            "6/6 [==============================] - 0s 10ms/step - loss: 0.0080\n",
            "Epoch 75/100\n",
            "6/6 [==============================] - 0s 11ms/step - loss: 0.0087\n",
            "Epoch 76/100\n",
            "6/6 [==============================] - 0s 11ms/step - loss: 0.0066\n",
            "Epoch 77/100\n",
            "6/6 [==============================] - 0s 10ms/step - loss: 0.0080\n",
            "Epoch 78/100\n",
            "6/6 [==============================] - 0s 9ms/step - loss: 0.0062\n",
            "Epoch 79/100\n",
            "6/6 [==============================] - 0s 10ms/step - loss: 0.0061\n",
            "Epoch 80/100\n",
            "6/6 [==============================] - 0s 10ms/step - loss: 0.0066\n",
            "Epoch 81/100\n",
            "6/6 [==============================] - 0s 10ms/step - loss: 0.0060\n",
            "Epoch 82/100\n",
            "6/6 [==============================] - 0s 11ms/step - loss: 0.0077\n",
            "Epoch 83/100\n",
            "6/6 [==============================] - 0s 14ms/step - loss: 0.0066\n",
            "Epoch 84/100\n",
            "6/6 [==============================] - 0s 13ms/step - loss: 0.0077\n",
            "Epoch 85/100\n",
            "6/6 [==============================] - 0s 13ms/step - loss: 0.0070\n",
            "Epoch 86/100\n",
            "6/6 [==============================] - 0s 11ms/step - loss: 0.0068\n",
            "Epoch 87/100\n",
            "6/6 [==============================] - 0s 11ms/step - loss: 0.0079\n",
            "Epoch 88/100\n",
            "6/6 [==============================] - 0s 17ms/step - loss: 0.0079\n",
            "Epoch 89/100\n",
            "6/6 [==============================] - 0s 11ms/step - loss: 0.0070\n",
            "Epoch 90/100\n",
            "6/6 [==============================] - 0s 12ms/step - loss: 0.0070\n",
            "Epoch 91/100\n",
            "6/6 [==============================] - 0s 12ms/step - loss: 0.0072\n",
            "Epoch 92/100\n",
            "6/6 [==============================] - 0s 13ms/step - loss: 0.0081\n",
            "Epoch 93/100\n",
            "6/6 [==============================] - 0s 11ms/step - loss: 0.0067\n",
            "Epoch 94/100\n",
            "6/6 [==============================] - 0s 11ms/step - loss: 0.0064\n",
            "Epoch 95/100\n",
            "6/6 [==============================] - 0s 12ms/step - loss: 0.0058\n",
            "Epoch 96/100\n",
            "6/6 [==============================] - 0s 11ms/step - loss: 0.0089\n",
            "Epoch 97/100\n",
            "6/6 [==============================] - 0s 12ms/step - loss: 0.0082\n",
            "Epoch 98/100\n",
            "6/6 [==============================] - 0s 11ms/step - loss: 0.0057\n",
            "Epoch 99/100\n",
            "6/6 [==============================] - 0s 12ms/step - loss: 0.0070\n",
            "Epoch 100/100\n",
            "6/6 [==============================] - 0s 11ms/step - loss: 0.0074\n",
            "1/1 [==============================] - 0s 210ms/step\n"
          ]
        },
        {
          "data": {
            "image/png": "[encoded data removed]",
            "text/plain": [
              "<Figure size 640x480 with 1 Axes>"
            ]
          },
          "metadata": {},
          "output_type": "display_data"
        }
      ],
      "source": [
        "import numpy as np\n",
        "import pandas as pd\n",
        "import matplotlib.pyplot as plt\n",
        "from sklearn.preprocessing import MinMaxScaler\n",
        "from tensorflow.keras.models import Sequential\n",
        "from tensorflow.keras.layers import Dense, SimpleRNN, Dropout\n",
        "\n",
        "# Load the dataset\n",
        "data = pd.read_csv('AAPL.csv')\n",
        "data = data['Close'].values.reshape(-1, 1)\n",
        "\n",
        "# Normalize the data\n",
        "scaler = MinMaxScaler(feature_range=(0, 1))\n",
        "data = scaler.fit_transform(data)\n",
        "\n",
        "# Split the data into training and testing sets\n",
        "train_data = data[:int(len(data)*0.8)]\n",
        "test_data = data[int(len(data)*0.8):]\n",
        "\n",
        "# Prepare the data for the RNN\n",
        "def create_dataset(data, window_size):\n",
        "    X, y = [], []\n",
        "    for i in range(len(data) - window_size - 1):\n",
        "        X.append(data[i:(i + window_size), 0])\n",
        "        y.append(data[i + window_size, 0])\n",
        "    return np.array(X), np.array(y)\n",
        "\n",
        "window_size = 30\n",
        "X_train, y_train = create_dataset(train_data, window_size)\n",
        "X_test, y_test = create_dataset(test_data, window_size)\n",
        "\n",
        "X_train = np.reshape(X_train, (X_train.shape[0], X_train.shape[1], 1))\n",
        "X_test = np.reshape(X_test, (X_test.shape[0], X_test.shape[1], 1))\n",
        "\n",
        "# Build the RNN model\n",
        "model = Sequential()\n",
        "model.add(SimpleRNN(units=50, return_sequences=True, input_shape=(X_train.shape[1], 1)))\n",
        "model.add(Dropout(0.2))\n",
        "model.add(SimpleRNN(units=50))\n",
        "model.add(Dropout(0.2))\n",
        "model.add(Dense(units=1))\n",
        "\n",
        "model.compile(optimizer='adam', loss='mean_squared_error')\n",
        "\n",
        "# Train the model\n",
        "model.fit(X_train, y_train, epochs=100, batch_size=32)\n",
        "\n",
        "# Make predictions\n",
        "predictions = model.predict(X_test)\n",
        "predictions = scaler.inverse_transform(predictions)\n",
        "\n",
        "# Plot the results\n",
        "plt.plot(scaler.inverse_transform(test_data[window_size:]), color='blue', label='Actual Stock Price')\n",
        "plt.plot(predictions, color='red', label='Predicted Stock Price')\n",
        "plt.title('Stock Price Prediction')\n",
        "plt.xlabel('Time')\n",
        "plt.ylabel('Stock Price')\n",
        "plt.legend()\n",
        "plt.show()\n"
      ]
    },
    {
      "cell_type": "code",
      "execution_count": null,
      "id": "b2e4d633",
      "metadata": {
        "id": "b2e4d633"
      },
      "outputs": [],
      "source": []
    }
  ],
  "metadata": {
    "kernelspec": {
      "display_name": "Python 3 (ipykernel)",
      "language": "python",
      "name": "python3"
    },
    "language_info": {
      "codemirror_mode": {
        "name": "ipython",
        "version": 3
      },
      "file_extension": ".py",
      "mimetype": "text/x-python",
      "name": "python",
      "nbconvert_exporter": "python",
      "pygments_lexer": "ipython3",
      "version": "3.9.13"
    },
    "colab": {
      "provenance": []
    }
  },
  "nbformat": 4,
  "nbformat_minor": 5
}
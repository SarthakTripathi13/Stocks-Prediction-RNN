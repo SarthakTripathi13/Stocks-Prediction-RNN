{
  "nbformat": 4,
  "nbformat_minor": 0,
  "metadata": {
    "colab": {
      "provenance": []
    },
    "kernelspec": {
      "name": "python3",
      "display_name": "Python 3"
    },
    "language_info": {
      "name": "python"
    }
  },
  "cells": [
    {
      "cell_type": "code",
      "source": [
        "import numpy as np\n",
        "import pandas as pd\n",
        "from sklearn.preprocessing import MinMaxScaler\n",
        "from tensorflow.keras.layers import Dense, LSTM, Dropout, Input\n",
        "from tensorflow.keras.models import Model"
      ],
      "metadata": {
        "id": "l311F0VRkxgW"
      },
      "execution_count": 1,
      "outputs": []
    },
    {
      "cell_type": "code",
      "source": [
        "data = pd.read_csv(\"AAPL.csv\")\n",
        "data.head()"
      ],
      "metadata": {
        "colab": {
          "base_uri": "https://localhost:8080/",
          "height": 206
        },
        "id": "WxVCJawOk0Z9",
        "outputId": "fdb10fe6-4825-4c1f-c059-3f866e026539"
      },
      "execution_count": 62,
      "outputs": [
        {
          "output_type": "execute_result",
          "data": {
            "text/plain": [
              "         Date        Open        High         Low       Close   Adj Close  \\\n",
              "0  2022-04-04  174.570007  178.490005  174.440002  178.440002  177.365570   \n",
              "1  2022-04-05  177.500000  178.300003  174.419998  175.059998  174.005920   \n",
              "2  2022-04-06  172.360001  173.630005  170.130005  171.830002  170.795380   \n",
              "3  2022-04-07  171.160004  173.360001  169.850006  172.139999  171.103500   \n",
              "4  2022-04-08  171.779999  171.779999  169.199997  170.089996  169.065842   \n",
              "\n",
              "     Volume  \n",
              "0  76468400  \n",
              "1  73401800  \n",
              "2  89058800  \n",
              "3  77594700  \n",
              "4  76575500  "
            ],
            "text/html": [
              "\n",
              "  <div id=\"df-4cdcb242-3093-4be4-9dce-652118bb45b8\">\n",
              "    <div class=\"colab-df-container\">\n",
              "      <div>\n",
              "<style scoped>\n",
              "    .dataframe tbody tr th:only-of-type {\n",
              "        vertical-align: middle;\n",
              "    }\n",
              "\n",
              "    .dataframe tbody tr th {\n",
              "        vertical-align: top;\n",
              "    }\n",
              "\n",
              "    .dataframe thead th {\n",
              "        text-align: right;\n",
              "    }\n",
              "</style>\n",
              "<table border=\"1\" class=\"dataframe\">\n",
              "  <thead>\n",
              "    <tr style=\"text-align: right;\">\n",
              "      <th></th>\n",
              "      <th>Date</th>\n",
              "      <th>Open</th>\n",
              "      <th>High</th>\n",
              "      <th>Low</th>\n",
              "      <th>Close</th>\n",
              "      <th>Adj Close</th>\n",
              "      <th>Volume</th>\n",
              "    </tr>\n",
              "  </thead>\n",
              "  <tbody>\n",
              "    <tr>\n",
              "      <th>0</th>\n",
              "      <td>2022-04-04</td>\n",
              "      <td>174.570007</td>\n",
              "      <td>178.490005</td>\n",
              "      <td>174.440002</td>\n",
              "      <td>178.440002</td>\n",
              "      <td>177.365570</td>\n",
              "      <td>76468400</td>\n",
              "    </tr>\n",
              "    <tr>\n",
              "      <th>1</th>\n",
              "      <td>2022-04-05</td>\n",
              "      <td>177.500000</td>\n",
              "      <td>178.300003</td>\n",
              "      <td>174.419998</td>\n",
              "      <td>175.059998</td>\n",
              "      <td>174.005920</td>\n",
              "      <td>73401800</td>\n",
              "    </tr>\n",
              "    <tr>\n",
              "      <th>2</th>\n",
              "      <td>2022-04-06</td>\n",
              "      <td>172.360001</td>\n",
              "      <td>173.630005</td>\n",
              "      <td>170.130005</td>\n",
              "      <td>171.830002</td>\n",
              "      <td>170.795380</td>\n",
              "      <td>89058800</td>\n",
              "    </tr>\n",
              "    <tr>\n",
              "      <th>3</th>\n",
              "      <td>2022-04-07</td>\n",
              "      <td>171.160004</td>\n",
              "      <td>173.360001</td>\n",
              "      <td>169.850006</td>\n",
              "      <td>172.139999</td>\n",
              "      <td>171.103500</td>\n",
              "      <td>77594700</td>\n",
              "    </tr>\n",
              "    <tr>\n",
              "      <th>4</th>\n",
              "      <td>2022-04-08</td>\n",
              "      <td>171.779999</td>\n",
              "      <td>171.779999</td>\n",
              "      <td>169.199997</td>\n",
              "      <td>170.089996</td>\n",
              "      <td>169.065842</td>\n",
              "      <td>76575500</td>\n",
              "    </tr>\n",
              "  </tbody>\n",
              "</table>\n",
              "</div>\n",
              "      <button class=\"colab-df-convert\" onclick=\"convertToInteractive('df-4cdcb242-3093-4be4-9dce-652118bb45b8')\"\n",
              "              title=\"Convert this dataframe to an interactive table.\"\n",
              "              style=\"display:none;\">\n",
              "        \n",
              "  <svg xmlns=\"http://www.w3.org/2000/svg\" height=\"24px\"viewBox=\"0 0 24 24\"\n",
              "       width=\"24px\">\n",
              "    <path d=\"M0 0h24v24H0V0z\" fill=\"none\"/>\n",
              "    <path d=\"M18.56 5.44l.94 2.06.94-2.06 2.06-.94-2.06-.94-.94-2.06-.94 2.06-2.06.94zm-11 1L8.5 8.5l.94-2.06 2.06-.94-2.06-.94L8.5 2.5l-.94 2.06-2.06.94zm10 10l.94 2.06.94-2.06 2.06-.94-2.06-.94-.94-2.06-.94 2.06-2.06.94z\"/><path d=\"M17.41 7.96l-1.37-1.37c-.4-.4-.92-.59-1.43-.59-.52 0-1.04.2-1.43.59L10.3 9.45l-7.72 7.72c-.78.78-.78 2.05 0 2.83L4 21.41c.39.39.9.59 1.41.59.51 0 1.02-.2 1.41-.59l7.78-7.78 2.81-2.81c.8-.78.8-2.07 0-2.86zM5.41 20L4 18.59l7.72-7.72 1.47 1.35L5.41 20z\"/>\n",
              "  </svg>\n",
              "      </button>\n",
              "      \n",
              "  <style>\n",
              "    .colab-df-container {\n",
              "      display:flex;\n",
              "      flex-wrap:wrap;\n",
              "      gap: 12px;\n",
              "    }\n",
              "\n",
              "    .colab-df-convert {\n",
              "      background-color: #E8F0FE;\n",
              "      border: none;\n",
              "      border-radius: 50%;\n",
              "      cursor: pointer;\n",
              "      display: none;\n",
              "      fill: #1967D2;\n",
              "      height: 32px;\n",
              "      padding: 0 0 0 0;\n",
              "      width: 32px;\n",
              "    }\n",
              "\n",
              "    .colab-df-convert:hover {\n",
              "      background-color: #E2EBFA;\n",
              "      box-shadow: 0px 1px 2px rgba(60, 64, 67, 0.3), 0px 1px 3px 1px rgba(60, 64, 67, 0.15);\n",
              "      fill: #174EA6;\n",
              "    }\n",
              "\n",
              "    [theme=dark] .colab-df-convert {\n",
              "      background-color: #3B4455;\n",
              "      fill: #D2E3FC;\n",
              "    }\n",
              "\n",
              "    [theme=dark] .colab-df-convert:hover {\n",
              "      background-color: #434B5C;\n",
              "      box-shadow: 0px 1px 3px 1px rgba(0, 0, 0, 0.15);\n",
              "      filter: drop-shadow(0px 1px 2px rgba(0, 0, 0, 0.3));\n",
              "      fill: #FFFFFF;\n",
              "    }\n",
              "  </style>\n",
              "\n",
              "      <script>\n",
              "        const buttonEl =\n",
              "          document.querySelector('#df-4cdcb242-3093-4be4-9dce-652118bb45b8 button.colab-df-convert');\n",
              "        buttonEl.style.display =\n",
              "          google.colab.kernel.accessAllowed ? 'block' : 'none';\n",
              "\n",
              "        async function convertToInteractive(key) {\n",
              "          const element = document.querySelector('#df-4cdcb242-3093-4be4-9dce-652118bb45b8');\n",
              "          const dataTable =\n",
              "            await google.colab.kernel.invokeFunction('convertToInteractive',\n",
              "                                                     [key], {});\n",
              "          if (!dataTable) return;\n",
              "\n",
              "          const docLinkHtml = 'Like what you see? Visit the ' +\n",
              "            '<a target=\"_blank\" href=https://colab.research.google.com/notebooks/data_table.ipynb>data table notebook</a>'\n",
              "            + ' to learn more about interactive tables.';\n",
              "          element.innerHTML = '';\n",
              "          dataTable['output_type'] = 'display_data';\n",
              "          await google.colab.output.renderOutput(dataTable, element);\n",
              "          const docLink = document.createElement('div');\n",
              "          docLink.innerHTML = docLinkHtml;\n",
              "          element.appendChild(docLink);\n",
              "        }\n",
              "      </script>\n",
              "    </div>\n",
              "  </div>\n",
              "  "
            ]
          },
          "metadata": {},
          "execution_count": 62
        }
      ]
    },
    {
      "cell_type": "code",
      "source": [
        "data.shape"
      ],
      "metadata": {
        "colab": {
          "base_uri": "https://localhost:8080/"
        },
        "id": "5pBLXNqYoYJL",
        "outputId": "b8b3c2a1-a50d-4a27-e246-b7879411b1f9"
      },
      "execution_count": 63,
      "outputs": [
        {
          "output_type": "execute_result",
          "data": {
            "text/plain": [
              "(250, 7)"
            ]
          },
          "metadata": {},
          "execution_count": 63
        }
      ]
    },
    {
      "cell_type": "code",
      "source": [
        "scaler = MinMaxScaler(feature_range=(0, 1))\n",
        "scaled_data = scaler.fit_transform(data[['Open','High','Low','Close']].values)"
      ],
      "metadata": {
        "id": "FYKOAG64k4ME"
      },
      "execution_count": 64,
      "outputs": []
    },
    {
      "cell_type": "code",
      "source": [
        "scaled_data.shape"
      ],
      "metadata": {
        "colab": {
          "base_uri": "https://localhost:8080/"
        },
        "id": "VcLI0jdNk8Cd",
        "outputId": "5d6be1ad-ba85-4dcf-dd0d-945999412475"
      },
      "execution_count": 65,
      "outputs": [
        {
          "output_type": "execute_result",
          "data": {
            "text/plain": [
              "(250, 4)"
            ]
          },
          "metadata": {},
          "execution_count": 65
        }
      ]
    },
    {
      "cell_type": "code",
      "source": [
        "# Split the data into training and test sets\n",
        "\n",
        "train_size = int(len(scaled_data) * 0.8)\n",
        "train_data = scaled_data[:train_size, :]\n",
        "test_data = scaled_data[train_size:, :]"
      ],
      "metadata": {
        "id": "8lAX1cX5k-QF"
      },
      "execution_count": 66,
      "outputs": []
    },
    {
      "cell_type": "code",
      "source": [
        "train_data.shape , test_data.shape"
      ],
      "metadata": {
        "colab": {
          "base_uri": "https://localhost:8080/"
        },
        "id": "czbwvxyclEDx",
        "outputId": "5ae3d4ca-0002-409d-c7b4-4dafd42d7efd"
      },
      "execution_count": 67,
      "outputs": [
        {
          "output_type": "execute_result",
          "data": {
            "text/plain": [
              "((200, 4), (50, 4))"
            ]
          },
          "metadata": {},
          "execution_count": 67
        }
      ]
    },
    {
      "cell_type": "code",
      "source": [
        "# Define the input and output sequences\n",
        "# def create_dataset(dataset, time_step=1, future_steps=1):\n",
        "#     X, y = [], []\n",
        "#     for i in range(len(dataset)-time_step-future_steps+1):\n",
        "#         X.append(dataset[i:(i+time_step), :])\n",
        "#         y.append(dataset[i + time_step:i + time_step + future_steps, 0])\n",
        "#     return np.array(X), np.array(y)\n",
        "\n",
        "def create_dataset(dataset, time_step=1):\n",
        "    X, y = [], []\n",
        "    for i in range(len(dataset)-time_step-1):\n",
        "        X.append(dataset[i:(i+time_step), :])\n",
        "        y.append(dataset[i + time_step, :])\n",
        "    return np.array(X), np.array(y)"
      ],
      "metadata": {
        "id": "SVOjmB7NlHyG"
      },
      "execution_count": 68,
      "outputs": []
    },
    {
      "cell_type": "code",
      "source": [
        "time_step = 30\n",
        "X_train, y_train = create_dataset(train_data, time_step)\n",
        "X_test, y_test = create_dataset(test_data, time_step)"
      ],
      "metadata": {
        "id": "9op_ZpChlKdP"
      },
      "execution_count": 69,
      "outputs": []
    },
    {
      "cell_type": "code",
      "source": [
        "features = train_data.shape[1]\n",
        "\n",
        "X_train = X_train.reshape(X_train.shape[0], X_train.shape[1], features)\n",
        "X_test = X_test.reshape(X_test.shape[0], X_test.shape[1], features)"
      ],
      "metadata": {
        "id": "U1gr_7zkFRJc"
      },
      "execution_count": 70,
      "outputs": []
    },
    {
      "cell_type": "code",
      "source": [
        "X_train.shape , y_train.shape , X_test.shape , y_test.shape"
      ],
      "metadata": {
        "colab": {
          "base_uri": "https://localhost:8080/"
        },
        "id": "sZiA3v4olNkD",
        "outputId": "adf450f8-97f3-4185-da03-9a6ca64cbc7a"
      },
      "execution_count": 71,
      "outputs": [
        {
          "output_type": "execute_result",
          "data": {
            "text/plain": [
              "((169, 30, 4), (169, 4), (19, 30, 4), (19, 4))"
            ]
          },
          "metadata": {},
          "execution_count": 71
        }
      ]
    },
    {
      "cell_type": "code",
      "source": [
        "X_train[0]"
      ],
      "metadata": {
        "colab": {
          "base_uri": "https://localhost:8080/"
        },
        "id": "FEuu_szijCAt",
        "outputId": "641a8931-3e18-48a1-f416-96887109a494"
      },
      "execution_count": 72,
      "outputs": [
        {
          "output_type": "execute_result",
          "data": {
            "text/plain": [
              "array([[0.94309588, 1.        , 1.        , 1.        ],\n",
              "       [1.        , 0.9962539 , 0.99960207, 0.93672775],\n",
              "       [0.90017481, 0.90417983, 0.91426305, 0.87626358],\n",
              "       [0.87686937, 0.8988564 , 0.90869314, 0.8820666 ],\n",
              "       [0.88891044, 0.86770495, 0.89576279, 0.8436914 ],\n",
              "       [0.82928737, 0.81348572, 0.82216031, 0.76244851],\n",
              "       [0.81588665, 0.83004715, 0.84483783, 0.79820298],\n",
              "       [0.80365117, 0.85311493, 0.84742396, 0.84949444],\n",
              "       [0.86638172, 0.85764985, 0.81300958, 0.75383737],\n",
              "       [0.73625942, 0.76557577, 0.78376777, 0.74971932],\n",
              "       [0.75762291, 0.78962941, 0.79053119, 0.7933357 ],\n",
              "       [0.8302582 , 0.81052842, 0.83409598, 0.79015341],\n",
              "       [0.83317156, 0.86277593, 0.83031635, 0.77499059],\n",
              "       [0.78558956, 0.79061498, 0.74258999, 0.68831884],\n",
              "       [0.68187987, 0.69794944, 0.6821167 , 0.70872341],\n",
              "       [0.70382597, 0.68158505, 0.64750349, 0.59490833],\n",
              "       [0.58069534, 0.63130897, 0.62084751, 0.5906029 ],\n",
              "       [0.64556223, 0.72456627, 0.69146593, 0.72295018],\n",
              "       [0.69586318, 0.75768915, 0.65804654, 0.6108198 ],\n",
              "       [0.5962324 , 0.60055194, 0.57887415, 0.61662312],\n",
              "       [0.62419874, 0.64944804, 0.63954658, 0.64507667],\n",
              "       [0.65371912, 0.76320964, 0.69803052, 0.76750287],\n",
              "       [0.73490009, 0.71589115, 0.61229355, 0.59434676],\n",
              "       [0.58263729, 0.62440852, 0.59697618, 0.60389365],\n",
              "       [0.56166231, 0.55323345, 0.54346538, 0.50617743],\n",
              "       [0.57312106, 0.57117515, 0.57211046, 0.55204035],\n",
              "       [0.53389006, 0.54574124, 0.4304754 , 0.40209661],\n",
              "       [0.32550015, 0.36336745, 0.29102852, 0.32834143],\n",
              "       [0.36084666, 0.40082819, 0.3767655 , 0.41351557],\n",
              "       [0.3794912 , 0.38939282, 0.3980504 , 0.38412568]])"
            ]
          },
          "metadata": {},
          "execution_count": 72
        }
      ]
    },
    {
      "cell_type": "code",
      "source": [
        "# Define the model architecture\n",
        "\n",
        "# ===========================================================\n",
        "\n",
        "inputs = Input(shape=(X_train.shape[1], X_train.shape[2]))\n",
        "x = LSTM(50, return_sequences=True)(inputs)\n",
        "x = Dropout(0.2)(x)\n",
        "x = LSTM(50, return_sequences=True)(x)\n",
        "x = Dropout(0.2)(x)\n",
        "x = LSTM(50)(x)\n",
        "x = Dropout(0.2)(x)\n",
        "outputs = Dense(1)(x)\n",
        "model = Model(inputs=inputs, outputs=outputs)\n",
        "\n",
        "\n",
        "# ============================================================\n",
        "# from tensorflow.keras.models import Sequential\n",
        "# from tensorflow.keras.layers import SimpleRNN\n",
        "# model = Sequential()\n",
        "# model.add(SimpleRNN(units = 200 , return_sequences=True, input_shape=(X_train.shape[1],X_train.shape[2])))\n",
        "# model.add(Dropout(0.2))\n",
        "# model.add(SimpleRNN(units=150))\n",
        "# model.add(Dropout(0.2))\n",
        "# model.add(Dense(units=1, activation = 'linear'))"
      ],
      "metadata": {
        "id": "FsKoFk8jlWGR"
      },
      "execution_count": 73,
      "outputs": []
    },
    {
      "cell_type": "code",
      "source": [
        "# Compile the model\n",
        "model.compile(loss='mean_squared_error', optimizer='adam')"
      ],
      "metadata": {
        "id": "HAtJtQWzm0KY"
      },
      "execution_count": 74,
      "outputs": []
    },
    {
      "cell_type": "code",
      "source": [
        "# Train the model with early stopping\n",
        "model.fit(X_train, y_train, epochs=100, batch_size=32, verbose=1)"
      ],
      "metadata": {
        "id": "g6pz3ccYm2HP",
        "colab": {
          "base_uri": "https://localhost:8080/"
        },
        "outputId": "a35d5378-a8a6-4653-e269-612cd3975804"
      },
      "execution_count": 75,
      "outputs": [
        {
          "output_type": "stream",
          "name": "stdout",
          "text": [
            "Epoch 1/100\n",
            "6/6 [==============================] - 6s 51ms/step - loss: 0.0787\n",
            "Epoch 2/100\n",
            "6/6 [==============================] - 0s 51ms/step - loss: 0.0340\n",
            "Epoch 3/100\n",
            "6/6 [==============================] - 0s 48ms/step - loss: 0.0306\n",
            "Epoch 4/100\n",
            "6/6 [==============================] - 0s 79ms/step - loss: 0.0260\n",
            "Epoch 5/100\n",
            "6/6 [==============================] - 0s 81ms/step - loss: 0.0239\n",
            "Epoch 6/100\n",
            "6/6 [==============================] - 0s 82ms/step - loss: 0.0229\n",
            "Epoch 7/100\n",
            "6/6 [==============================] - 0s 82ms/step - loss: 0.0205\n",
            "Epoch 8/100\n",
            "6/6 [==============================] - 0s 83ms/step - loss: 0.0189\n",
            "Epoch 9/100\n",
            "6/6 [==============================] - 1s 83ms/step - loss: 0.0192\n",
            "Epoch 10/100\n",
            "6/6 [==============================] - 0s 55ms/step - loss: 0.0174\n",
            "Epoch 11/100\n",
            "6/6 [==============================] - 0s 50ms/step - loss: 0.0167\n",
            "Epoch 12/100\n",
            "6/6 [==============================] - 0s 49ms/step - loss: 0.0164\n",
            "Epoch 13/100\n",
            "6/6 [==============================] - 0s 48ms/step - loss: 0.0172\n",
            "Epoch 14/100\n",
            "6/6 [==============================] - 0s 49ms/step - loss: 0.0129\n",
            "Epoch 15/100\n",
            "6/6 [==============================] - 0s 45ms/step - loss: 0.0146\n",
            "Epoch 16/100\n",
            "6/6 [==============================] - 0s 48ms/step - loss: 0.0142\n",
            "Epoch 17/100\n",
            "6/6 [==============================] - 0s 48ms/step - loss: 0.0158\n",
            "Epoch 18/100\n",
            "6/6 [==============================] - 0s 46ms/step - loss: 0.0148\n",
            "Epoch 19/100\n",
            "6/6 [==============================] - 0s 48ms/step - loss: 0.0158\n",
            "Epoch 20/100\n",
            "6/6 [==============================] - 0s 48ms/step - loss: 0.0133\n",
            "Epoch 21/100\n",
            "6/6 [==============================] - 0s 48ms/step - loss: 0.0156\n",
            "Epoch 22/100\n",
            "6/6 [==============================] - 0s 46ms/step - loss: 0.0163\n",
            "Epoch 23/100\n",
            "6/6 [==============================] - 0s 48ms/step - loss: 0.0142\n",
            "Epoch 24/100\n",
            "6/6 [==============================] - 0s 48ms/step - loss: 0.0134\n",
            "Epoch 25/100\n",
            "6/6 [==============================] - 0s 48ms/step - loss: 0.0129\n",
            "Epoch 26/100\n",
            "6/6 [==============================] - 0s 47ms/step - loss: 0.0144\n",
            "Epoch 27/100\n",
            "6/6 [==============================] - 0s 48ms/step - loss: 0.0141\n",
            "Epoch 28/100\n",
            "6/6 [==============================] - 0s 47ms/step - loss: 0.0168\n",
            "Epoch 29/100\n",
            "6/6 [==============================] - 0s 47ms/step - loss: 0.0135\n",
            "Epoch 30/100\n",
            "6/6 [==============================] - 0s 48ms/step - loss: 0.0147\n",
            "Epoch 31/100\n",
            "6/6 [==============================] - 0s 49ms/step - loss: 0.0145\n",
            "Epoch 32/100\n",
            "6/6 [==============================] - 0s 47ms/step - loss: 0.0132\n",
            "Epoch 33/100\n",
            "6/6 [==============================] - 0s 47ms/step - loss: 0.0137\n",
            "Epoch 34/100\n",
            "6/6 [==============================] - 0s 48ms/step - loss: 0.0148\n",
            "Epoch 35/100\n",
            "6/6 [==============================] - 0s 48ms/step - loss: 0.0159\n",
            "Epoch 36/100\n",
            "6/6 [==============================] - 0s 48ms/step - loss: 0.0149\n",
            "Epoch 37/100\n",
            "6/6 [==============================] - 0s 48ms/step - loss: 0.0131\n",
            "Epoch 38/100\n",
            "6/6 [==============================] - 0s 49ms/step - loss: 0.0135\n",
            "Epoch 39/100\n",
            "6/6 [==============================] - 0s 48ms/step - loss: 0.0132\n",
            "Epoch 40/100\n",
            "6/6 [==============================] - 0s 48ms/step - loss: 0.0108\n",
            "Epoch 41/100\n",
            "6/6 [==============================] - 0s 50ms/step - loss: 0.0110\n",
            "Epoch 42/100\n",
            "6/6 [==============================] - 0s 47ms/step - loss: 0.0120\n",
            "Epoch 43/100\n",
            "6/6 [==============================] - 0s 50ms/step - loss: 0.0123\n",
            "Epoch 44/100\n",
            "6/6 [==============================] - 0s 81ms/step - loss: 0.0113\n",
            "Epoch 45/100\n",
            "6/6 [==============================] - 0s 80ms/step - loss: 0.0113\n",
            "Epoch 46/100\n",
            "6/6 [==============================] - 1s 83ms/step - loss: 0.0113\n",
            "Epoch 47/100\n",
            "6/6 [==============================] - 0s 81ms/step - loss: 0.0097\n",
            "Epoch 48/100\n",
            "6/6 [==============================] - 0s 82ms/step - loss: 0.0114\n",
            "Epoch 49/100\n",
            "6/6 [==============================] - 1s 85ms/step - loss: 0.0114\n",
            "Epoch 50/100\n",
            "6/6 [==============================] - 0s 54ms/step - loss: 0.0122\n",
            "Epoch 51/100\n",
            "6/6 [==============================] - 0s 53ms/step - loss: 0.0101\n",
            "Epoch 52/100\n",
            "6/6 [==============================] - 0s 50ms/step - loss: 0.0096\n",
            "Epoch 53/100\n",
            "6/6 [==============================] - 0s 48ms/step - loss: 0.0127\n",
            "Epoch 54/100\n",
            "6/6 [==============================] - 0s 49ms/step - loss: 0.0104\n",
            "Epoch 55/100\n",
            "6/6 [==============================] - 0s 50ms/step - loss: 0.0093\n",
            "Epoch 56/100\n",
            "6/6 [==============================] - 0s 48ms/step - loss: 0.0089\n",
            "Epoch 57/100\n",
            "6/6 [==============================] - 0s 47ms/step - loss: 0.0106\n",
            "Epoch 58/100\n",
            "6/6 [==============================] - 0s 52ms/step - loss: 0.0089\n",
            "Epoch 59/100\n",
            "6/6 [==============================] - 0s 50ms/step - loss: 0.0098\n",
            "Epoch 60/100\n",
            "6/6 [==============================] - 0s 48ms/step - loss: 0.0101\n",
            "Epoch 61/100\n",
            "6/6 [==============================] - 0s 50ms/step - loss: 0.0100\n",
            "Epoch 62/100\n",
            "6/6 [==============================] - 0s 50ms/step - loss: 0.0106\n",
            "Epoch 63/100\n",
            "6/6 [==============================] - 0s 48ms/step - loss: 0.0089\n",
            "Epoch 64/100\n",
            "6/6 [==============================] - 0s 49ms/step - loss: 0.0098\n",
            "Epoch 65/100\n",
            "6/6 [==============================] - 0s 49ms/step - loss: 0.0093\n",
            "Epoch 66/100\n",
            "6/6 [==============================] - 0s 49ms/step - loss: 0.0109\n",
            "Epoch 67/100\n",
            "6/6 [==============================] - 0s 52ms/step - loss: 0.0105\n",
            "Epoch 68/100\n",
            "6/6 [==============================] - 0s 51ms/step - loss: 0.0089\n",
            "Epoch 69/100\n",
            "6/6 [==============================] - 0s 50ms/step - loss: 0.0086\n",
            "Epoch 70/100\n",
            "6/6 [==============================] - 0s 48ms/step - loss: 0.0093\n",
            "Epoch 71/100\n",
            "6/6 [==============================] - 0s 52ms/step - loss: 0.0088\n",
            "Epoch 72/100\n",
            "6/6 [==============================] - 0s 49ms/step - loss: 0.0084\n",
            "Epoch 73/100\n",
            "6/6 [==============================] - 0s 48ms/step - loss: 0.0105\n",
            "Epoch 74/100\n",
            "6/6 [==============================] - 0s 50ms/step - loss: 0.0089\n",
            "Epoch 75/100\n",
            "6/6 [==============================] - 0s 49ms/step - loss: 0.0100\n",
            "Epoch 76/100\n",
            "6/6 [==============================] - 0s 47ms/step - loss: 0.0090\n",
            "Epoch 77/100\n",
            "6/6 [==============================] - 0s 48ms/step - loss: 0.0088\n",
            "Epoch 78/100\n",
            "6/6 [==============================] - 0s 52ms/step - loss: 0.0088\n",
            "Epoch 79/100\n",
            "6/6 [==============================] - 0s 49ms/step - loss: 0.0084\n",
            "Epoch 80/100\n",
            "6/6 [==============================] - 0s 48ms/step - loss: 0.0091\n",
            "Epoch 81/100\n",
            "6/6 [==============================] - 0s 51ms/step - loss: 0.0080\n",
            "Epoch 82/100\n",
            "6/6 [==============================] - 0s 49ms/step - loss: 0.0076\n",
            "Epoch 83/100\n",
            "6/6 [==============================] - 0s 77ms/step - loss: 0.0085\n",
            "Epoch 84/100\n",
            "6/6 [==============================] - 1s 86ms/step - loss: 0.0095\n",
            "Epoch 85/100\n",
            "6/6 [==============================] - 0s 80ms/step - loss: 0.0085\n",
            "Epoch 86/100\n",
            "6/6 [==============================] - 0s 83ms/step - loss: 0.0076\n",
            "Epoch 87/100\n",
            "6/6 [==============================] - 0s 81ms/step - loss: 0.0080\n",
            "Epoch 88/100\n",
            "6/6 [==============================] - 1s 83ms/step - loss: 0.0089\n",
            "Epoch 89/100\n",
            "6/6 [==============================] - 0s 58ms/step - loss: 0.0101\n",
            "Epoch 90/100\n",
            "6/6 [==============================] - 0s 48ms/step - loss: 0.0090\n",
            "Epoch 91/100\n",
            "6/6 [==============================] - 0s 48ms/step - loss: 0.0087\n",
            "Epoch 92/100\n",
            "6/6 [==============================] - 0s 46ms/step - loss: 0.0087\n",
            "Epoch 93/100\n",
            "6/6 [==============================] - 0s 47ms/step - loss: 0.0081\n",
            "Epoch 94/100\n",
            "6/6 [==============================] - 0s 53ms/step - loss: 0.0084\n",
            "Epoch 95/100\n",
            "6/6 [==============================] - 0s 46ms/step - loss: 0.0075\n",
            "Epoch 96/100\n",
            "6/6 [==============================] - 0s 49ms/step - loss: 0.0076\n",
            "Epoch 97/100\n",
            "6/6 [==============================] - 0s 49ms/step - loss: 0.0082\n",
            "Epoch 98/100\n",
            "6/6 [==============================] - 0s 49ms/step - loss: 0.0084\n",
            "Epoch 99/100\n",
            "6/6 [==============================] - 0s 45ms/step - loss: 0.0080\n",
            "Epoch 100/100\n",
            "6/6 [==============================] - 0s 53ms/step - loss: 0.0077\n"
          ]
        },
        {
          "output_type": "execute_result",
          "data": {
            "text/plain": [
              "<keras.callbacks.History at 0x7f616450c070>"
            ]
          },
          "metadata": {},
          "execution_count": 75
        }
      ]
    },
    {
      "cell_type": "code",
      "source": [
        "# # Make predictions\n",
        "\n",
        "predictions = model.predict(X_test)\n",
        "predictions"
      ],
      "metadata": {
        "colab": {
          "base_uri": "https://localhost:8080/"
        },
        "id": "qUSAVccNpCOd",
        "outputId": "68e4e2d2-3717-4f6c-eee0-98f9488d30e9"
      },
      "execution_count": 76,
      "outputs": [
        {
          "output_type": "stream",
          "name": "stdout",
          "text": [
            "1/1 [==============================] - 1s 1s/step\n"
          ]
        },
        {
          "output_type": "execute_result",
          "data": {
            "text/plain": [
              "array([[0.4263148 ],\n",
              "       [0.46930373],\n",
              "       [0.5080898 ],\n",
              "       [0.53108954],\n",
              "       [0.532841  ],\n",
              "       [0.50800675],\n",
              "       [0.4826498 ],\n",
              "       [0.47460502],\n",
              "       [0.47893104],\n",
              "       [0.5017248 ],\n",
              "       [0.5329976 ],\n",
              "       [0.56486803],\n",
              "       [0.59938353],\n",
              "       [0.6291628 ],\n",
              "       [0.6472216 ],\n",
              "       [0.65460604],\n",
              "       [0.6511376 ],\n",
              "       [0.63423014],\n",
              "       [0.63398814]], dtype=float32)"
            ]
          },
          "metadata": {},
          "execution_count": 76
        }
      ]
    },
    {
      "cell_type": "code",
      "source": [
        "predictions.shape"
      ],
      "metadata": {
        "colab": {
          "base_uri": "https://localhost:8080/"
        },
        "id": "dfZej272HAXM",
        "outputId": "31631093-e8ed-41c7-adea-66dceb294863"
      },
      "execution_count": 77,
      "outputs": [
        {
          "output_type": "execute_result",
          "data": {
            "text/plain": [
              "(19, 1)"
            ]
          },
          "metadata": {},
          "execution_count": 77
        }
      ]
    },
    {
      "cell_type": "code",
      "source": [
        "y_test.shape"
      ],
      "metadata": {
        "colab": {
          "base_uri": "https://localhost:8080/"
        },
        "id": "WtZ4IV4UIqeV",
        "outputId": "8974beae-b441-4b46-c12f-dc4cfd141087"
      },
      "execution_count": 78,
      "outputs": [
        {
          "output_type": "execute_result",
          "data": {
            "text/plain": [
              "(19, 4)"
            ]
          },
          "metadata": {},
          "execution_count": 78
        }
      ]
    },
    {
      "cell_type": "code",
      "source": [
        "extend_pred = np.repeat(np.expand_dims(predictions[:, -1], axis=-1), features, axis=1)\n",
        "print(extend_pred[0])\n",
        "print(extend_pred.shape)"
      ],
      "metadata": {
        "colab": {
          "base_uri": "https://localhost:8080/"
        },
        "id": "2mj1d8cgGclU",
        "outputId": "c26d454f-05a8-43d9-d60f-a05e7680e6f4"
      },
      "execution_count": 79,
      "outputs": [
        {
          "output_type": "stream",
          "name": "stdout",
          "text": [
            "[0.4263148 0.4263148 0.4263148 0.4263148]\n",
            "(19, 4)\n"
          ]
        }
      ]
    },
    {
      "cell_type": "code",
      "source": [
        "extend_pred = scaler.inverse_transform(extend_pred)\n",
        "extend_pred"
      ],
      "metadata": {
        "colab": {
          "base_uri": "https://localhost:8080/"
        },
        "id": "4KCpnEAevSTd",
        "outputId": "b93d5a23-7979-4e4b-aebf-1941ae34bcad"
      },
      "execution_count": 80,
      "outputs": [
        {
          "output_type": "execute_result",
          "data": {
            "text/plain": [
              "array([[147.96095, 149.39268, 145.60085, 147.79375],\n",
              "       [150.17445, 151.57309, 147.7619 , 150.0902 ],\n",
              "       [152.17154, 153.54031, 149.71169, 152.16216],\n",
              "       [153.35579, 154.70686, 150.86787, 153.39081],\n",
              "       [153.44598, 154.7957 , 150.95592, 153.48438],\n",
              "       [152.16727, 153.5361 , 149.70749, 152.15771],\n",
              "       [150.86163, 152.25   , 148.43282, 150.80316],\n",
              "       [150.44742, 151.84196, 148.0284 , 150.3734 ],\n",
              "       [150.67017, 152.06139, 148.24586, 150.60449],\n",
              "       [151.84381, 153.21748, 149.39171, 151.82214],\n",
              "       [153.45404, 154.80363, 150.96379, 153.49274],\n",
              "       [155.09506, 156.4201 , 152.56592, 155.19525],\n",
              "       [156.87225, 158.17073, 154.30101, 157.03906],\n",
              "       [158.4056 , 159.68114, 155.79802, 158.62988],\n",
              "       [159.33545, 160.59709, 156.70584, 159.59457],\n",
              "       [159.71567, 160.97162, 157.07704, 159.98904],\n",
              "       [159.53706, 160.7957 , 156.9027 , 159.80377],\n",
              "       [158.6665 , 159.93816, 156.05275, 158.90057],\n",
              "       [158.65404, 159.92587, 156.04059, 158.88765]], dtype=float32)"
            ]
          },
          "metadata": {},
          "execution_count": 80
        }
      ]
    },
    {
      "cell_type": "code",
      "source": [
        "arr = []\n",
        "den = extend_pred.shape[1]\n",
        "for i in range(len(extend_pred)):\n",
        "  add = 0\n",
        "  for j in range(den):\n",
        "    add += extend_pred[i][j]\n",
        "  arr.append(add/den)\n",
        "\n",
        "arr"
      ],
      "metadata": {
        "colab": {
          "base_uri": "https://localhost:8080/"
        },
        "id": "0fVZbn0fNFbP",
        "outputId": "e6ff1701-6d1e-4873-89c9-7eac2e932589"
      },
      "execution_count": 81,
      "outputs": [
        {
          "output_type": "execute_result",
          "data": {
            "text/plain": [
              "[147.6870574951172,\n",
              " 149.89990997314453,\n",
              " 151.89642333984375,\n",
              " 153.0803337097168,\n",
              " 153.17049407958984,\n",
              " 151.89214324951172,\n",
              " 150.5869026184082,\n",
              " 150.17279434204102,\n",
              " 150.39547729492188,\n",
              " 151.56878662109375,\n",
              " 153.17855072021484,\n",
              " 154.81908416748047,\n",
              " 156.59576416015625,\n",
              " 158.12865829467773,\n",
              " 159.0582389831543,\n",
              " 159.4383430480957,\n",
              " 159.25980758666992,\n",
              " 158.38949584960938,\n",
              " 158.37703704833984]"
            ]
          },
          "metadata": {},
          "execution_count": 81
        }
      ]
    },
    {
      "cell_type": "code",
      "source": [
        "extend_pred = arr\n",
        "extend_pred"
      ],
      "metadata": {
        "id": "2MsQOcSNM0gr",
        "colab": {
          "base_uri": "https://localhost:8080/"
        },
        "outputId": "ebbe537c-b3ab-4369-8bf2-e5303c1563d3"
      },
      "execution_count": 82,
      "outputs": [
        {
          "output_type": "execute_result",
          "data": {
            "text/plain": [
              "[147.6870574951172,\n",
              " 149.89990997314453,\n",
              " 151.89642333984375,\n",
              " 153.0803337097168,\n",
              " 153.17049407958984,\n",
              " 151.89214324951172,\n",
              " 150.5869026184082,\n",
              " 150.17279434204102,\n",
              " 150.39547729492188,\n",
              " 151.56878662109375,\n",
              " 153.17855072021484,\n",
              " 154.81908416748047,\n",
              " 156.59576416015625,\n",
              " 158.12865829467773,\n",
              " 159.0582389831543,\n",
              " 159.4383430480957,\n",
              " 159.25980758666992,\n",
              " 158.38949584960938,\n",
              " 158.37703704833984]"
            ]
          },
          "metadata": {},
          "execution_count": 82
        }
      ]
    },
    {
      "cell_type": "code",
      "source": [
        "y_test_Final = scaler.inverse_transform(y_test)\n",
        "y_test_Final = y_test_Final[:,0]\n",
        "y_test_Final"
      ],
      "metadata": {
        "colab": {
          "base_uri": "https://localhost:8080/"
        },
        "id": "-UQC58SUH_iI",
        "outputId": "01575801-ed30-4775-d2ef-a140131bc905"
      },
      "execution_count": 83,
      "outputs": [
        {
          "output_type": "execute_result",
          "data": {
            "text/plain": [
              "array([153.789993, 153.699997, 152.809998, 153.559998, 150.210007,\n",
              "       147.809998, 151.279999, 151.190002, 152.160004, 156.080002,\n",
              "       155.070007, 157.320007, 159.300003, 158.830002, 158.860001,\n",
              "       159.940002, 157.970001, 159.369995, 161.529999])"
            ]
          },
          "metadata": {},
          "execution_count": 83
        }
      ]
    },
    {
      "cell_type": "code",
      "source": [
        "# Evaluate the model\n",
        "rmse = np.sqrt(np.mean((extend_pred - y_test_Final) ** 2))\n",
        "print(\"RMSE: \", rmse)"
      ],
      "metadata": {
        "colab": {
          "base_uri": "https://localhost:8080/"
        },
        "id": "RsotGXtHINJj",
        "outputId": "2aacebf4-f3e4-494d-c10e-5937271d9e04"
      },
      "execution_count": 84,
      "outputs": [
        {
          "output_type": "stream",
          "name": "stdout",
          "text": [
            "RMSE:  2.652242419870291\n"
          ]
        }
      ]
    },
    {
      "cell_type": "code",
      "source": [
        "from sklearn.metrics import r2_score\n",
        "\n",
        "r2 = r2_score(y_test_Final, extend_pred)\n",
        "print(r2)"
      ],
      "metadata": {
        "colab": {
          "base_uri": "https://localhost:8080/"
        },
        "id": "jRSz_0YvMerh",
        "outputId": "81af2825-6a83-4eb9-fa33-a781e97330fd"
      },
      "execution_count": 85,
      "outputs": [
        {
          "output_type": "stream",
          "name": "stdout",
          "text": [
            "0.5029629303264533\n"
          ]
        }
      ]
    },
    {
      "cell_type": "code",
      "source": [
        "# Plot the results\n",
        "import matplotlib.pyplot as plt\n",
        "plt.plot(y_test_Final, color='blue', label='Actual Stock Price')\n",
        "plt.plot(extend_pred, color='red', label='Predicted Stock Price')\n",
        "plt.title('Stock Price Prediction')\n",
        "plt.xlabel('Time')\n",
        "plt.ylabel('Stock Price')\n",
        "plt.legend()\n",
        "plt.show()"
      ],
      "metadata": {
        "colab": {
          "base_uri": "https://localhost:8080/",
          "height": 472
        },
        "id": "XmRrSXQUINL5",
        "outputId": "f173fa4f-28c5-4bbf-f59a-a70e9738bb20"
      },
      "execution_count": 86,
      "outputs": [
        {
          "output_type": "display_data",
          "data": {
            "text/plain": [
              "<Figure size 640x480 with 1 Axes>"
            ],
            "image/png": "[encoded data removed]"
          },
          "metadata": {}
        }
      ]
    },
    {
      "cell_type": "code",
      "source": [],
      "metadata": {
        "id": "z4cy0L1GINPU"
      },
      "execution_count": null,
      "outputs": []
    },
    {
      "cell_type": "code",
      "source": [
        "print(scaler.scale_)\n",
        "scaler_mean = np.mean(scaler.scale_)\n",
        "print(\"Mean of all the Scaling Units are : \", scaler_mean)"
      ],
      "metadata": {
        "colab": {
          "base_uri": "https://localhost:8080/"
        },
        "id": "VqSWm4dSjUHs",
        "outputId": "524c9aa5-1fe2-4cd6-8ce9-998e63329561"
      },
      "execution_count": null,
      "outputs": [
        {
          "output_type": "stream",
          "name": "stdout",
          "text": [
            "[0.01871958 0.01942125 0.01971609 0.01989258]\n",
            "Mean of all the Scaling Units are :  0.019437372557688876\n"
          ]
        }
      ]
    },
    {
      "cell_type": "code",
      "source": [
        "scaling_factor = 1/ scaler_mean\n",
        "print(scaling_factor)"
      ],
      "metadata": {
        "colab": {
          "base_uri": "https://localhost:8080/"
        },
        "id": "Z-FQWr0dj7Aa",
        "outputId": "ec7fe5cb-61a8-42d7-8853-bee30b6fd064"
      },
      "execution_count": null,
      "outputs": [
        {
          "output_type": "stream",
          "name": "stdout",
          "text": [
            "51.44728265263549\n"
          ]
        }
      ]
    },
    {
      "cell_type": "code",
      "source": [
        "for pred in range(len(predictions)):\n",
        "  predictions[pred] = predictions[pred] * scaling_factor"
      ],
      "metadata": {
        "id": "kC74s3Szjnzk"
      },
      "execution_count": null,
      "outputs": []
    },
    {
      "cell_type": "code",
      "source": [
        "predictions"
      ],
      "metadata": {
        "colab": {
          "base_uri": "https://localhost:8080/"
        },
        "id": "XdQbWStIj4Ha",
        "outputId": "446111f8-30ec-46ab-ba67-ed772625fa61"
      },
      "execution_count": null,
      "outputs": [
        {
          "output_type": "execute_result",
          "data": {
            "text/plain": [
              "array([[65105004.],\n",
              "       [84572520.],\n",
              "       [77803832.],\n",
              "       [68754816.],\n",
              "       [70906880.],\n",
              "       [68677672.],\n",
              "       [63795900.],\n",
              "       [76836280.],\n",
              "       [77016024.],\n",
              "       [82884424.],\n",
              "       [81008224.],\n",
              "       [91732128.],\n",
              "       [88144080.],\n",
              "       [89872672.],\n",
              "       [92918216.],\n",
              "       [93425496.],\n",
              "       [94961928.],\n",
              "       [89256344.],\n",
              "       [98768168.],\n",
              "       [98978392.]], dtype=float32)"
            ]
          },
          "metadata": {},
          "execution_count": 139
        }
      ]
    },
    {
      "cell_type": "code",
      "source": [
        "y_test = y_test*scaling_factor"
      ],
      "metadata": {
        "id": "-4d0M4c4kd0A"
      },
      "execution_count": null,
      "outputs": []
    },
    {
      "cell_type": "code",
      "source": [
        "y_test"
      ],
      "metadata": {
        "colab": {
          "base_uri": "https://localhost:8080/"
        },
        "id": "RcuiXYlem5QE",
        "outputId": "fec2d379-e947-442e-be57-4cb4dcdacb5c"
      },
      "execution_count": null,
      "outputs": [
        {
          "output_type": "execute_result",
          "data": {
            "text/plain": [
              "array([[0.53931116, 0.53952208],\n",
              "       [0.49756658, 0.53777425],\n",
              "       [0.52134024, 0.52048936],\n",
              "       [0.47865961, 0.53505529],\n",
              "       [0.43953577, 0.46999429],\n",
              "       [0.47641336, 0.42338312],\n",
              "       [0.51609877, 0.49077487],\n",
              "       [0.52358677, 0.48902701],\n",
              "       [0.57712479, 0.50786566],\n",
              "       [0.56121303, 0.58399692],\n",
              "       [0.60613991, 0.56438155],\n",
              "       [0.64133281, 0.60807936],\n",
              "       [0.61418948, 0.64653335],\n",
              "       [0.63478085, 0.63740535],\n",
              "       [0.65949082, 0.63798796],\n",
              "       [0.62261323, 0.65896293],\n",
              "       [0.6108198 , 0.62070305],\n",
              "       [0.66922508, 0.64789268],\n",
              "       [0.69898915, 0.68984266],\n",
              "       [0.74653675, 0.70751605]])"
            ]
          },
          "metadata": {},
          "execution_count": 53
        }
      ]
    },
    {
      "cell_type": "code",
      "source": [
        "# Evaluate the model\n",
        "rmse = np.sqrt(np.mean(((predictions - (y_test)) ** 2)))\n",
        "print(\"RMSE: \", rmse)"
      ],
      "metadata": {
        "colab": {
          "base_uri": "https://localhost:8080/"
        },
        "id": "BlAzPf-Qs_9_",
        "outputId": "5a26b598-8557-45f3-a663-3a9e320dc76a"
      },
      "execution_count": null,
      "outputs": [
        {
          "output_type": "stream",
          "name": "stdout",
          "text": [
            "RMSE:  3.0290509535170154\n"
          ]
        }
      ]
    },
    {
      "cell_type": "code",
      "source": [
        "# Plot the results\n",
        "import matplotlib.pyplot as plt\n",
        "plt.plot(y_test, color='blue', label='Actual Stock Price')\n",
        "plt.plot(predictions, color='red', label='Predicted Stock Price')\n",
        "plt.title('Stock Price Prediction')\n",
        "plt.xlabel('Time')\n",
        "plt.ylabel('Stock Price')\n",
        "plt.legend()\n",
        "plt.show()"
      ],
      "metadata": {
        "colab": {
          "base_uri": "https://localhost:8080/",
          "height": 472
        },
        "id": "Jp0dyPGnond1",
        "outputId": "6b5c24eb-927e-4d4d-fe62-24d0aae3e418"
      },
      "execution_count": null,
      "outputs": [
        {
          "output_type": "display_data",
          "data": {
            "text/plain": [
              "<Figure size 640x480 with 1 Axes>"
            ],
            "image/png": "[encoded data removed]"
          },
          "metadata": {}
        }
      ]
    },
    {
      "cell_type": "code",
      "source": [],
      "metadata": {
        "id": "-TMzaEkfo0Cm"
      },
      "execution_count": null,
      "outputs": []
    }
  ]
}